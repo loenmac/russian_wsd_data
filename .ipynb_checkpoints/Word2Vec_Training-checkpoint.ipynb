{
 "cells": [
  {
   "cell_type": "code",
   "execution_count": null,
   "metadata": {},
   "outputs": [],
   "source": [
    "import gensim\n",
    "from gensim.models import Word2Vec"
   ]
  },
  {
   "cell_type": "code",
   "execution_count": null,
   "metadata": {},
   "outputs": [],
   "source": [
    "path_to_processed_corpus = r'Taiga_1billion\\Taiga_1billion\\proza_ru_split_processed_multiwords.txt'\n",
    "with open(path_to_processed_corpus, 'r', encoding='utf8') as f:\n",
    "    processed_corpus_big = f.readlines()"
   ]
  },
  {
   "cell_type": "code",
   "execution_count": null,
   "metadata": {},
   "outputs": [],
   "source": [
    "documents = [row.split() for row in processed_corpus_news]"
   ]
  },
  {
   "cell_type": "code",
   "execution_count": null,
   "metadata": {},
   "outputs": [],
   "source": [
    "model = gensim.models.Word2Vec(\n",
    "        documents,\n",
    "        size=300,\n",
    "        window=3,\n",
    "        min_count=2,\n",
    "        workers=10,\n",
    "        iter=10)"
   ]
  },
  {
   "cell_type": "code",
   "execution_count": null,
   "metadata": {},
   "outputs": [],
   "source": [
    "path_to_w2v_model = r'Taiga_1billion\\Taiga_1billion\\word2vec_win3_proza_ru'\n",
    "model.save(path_to_w2v_model+\".model\")"
   ]
  }
 ],
 "metadata": {
  "kernelspec": {
   "display_name": "Python 3",
   "language": "python",
   "name": "python3"
  },
  "language_info": {
   "codemirror_mode": {
    "name": "ipython",
    "version": 3
   },
   "file_extension": ".py",
   "mimetype": "text/x-python",
   "name": "python",
   "nbconvert_exporter": "python",
   "pygments_lexer": "ipython3",
   "version": "3.7.5"
  }
 },
 "nbformat": 4,
 "nbformat_minor": 2
}
